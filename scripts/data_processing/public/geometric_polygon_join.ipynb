{
 "cells": [
  {
   "cell_type": "markdown",
   "id": "5d7ca269",
   "metadata": {},
   "source": [
    "# Geometry Master Join Script\n",
    "- Script to join the geometry polygons extracted from Flourish to NGS processed .R script\n"
   ]
  },
  {
   "cell_type": "code",
   "execution_count": null,
   "id": "22dc62ae",
   "metadata": {},
   "outputs": [],
   "source": [
    "#import packages\n",
    "import pandas as pd\n",
    "import datacompy as dc\n",
    "import os\n",
    "import seaborn as sns\n",
    "import numpy as np"
   ]
  },
  {
   "cell_type": "markdown",
   "id": "12f1a347",
   "metadata": {},
   "source": [
    "- Importing data files and observing numbers of columns/rows"
   ]
  },
  {
   "cell_type": "code",
   "execution_count": null,
   "id": "2aeea268",
   "metadata": {},
   "outputs": [],
   "source": [
    "#import new NGS map cleaned script (exported from .R script) \n",
    "df_find_map = pd.read_csv (\"C:\\\\Users\\\\bthrift\\\\Documents\\\\Projects\\\\NGS Map\\\\NGS underlying data\\\\Python\\\\find_map.csv\")\n",
    "df_find_map.drop('geometry', inplace=True, axis=1)\n",
    "df_find_map.head()"
   ]
  },
  {
   "cell_type": "code",
   "execution_count": null,
   "id": "048faf76",
   "metadata": {},
   "outputs": [],
   "source": [
    "#Observe the number of countries represented \n",
    "df_find_map.shape"
   ]
  },
  {
   "cell_type": "code",
   "execution_count": null,
   "id": "6e7712e1",
   "metadata": {},
   "outputs": [],
   "source": [
    "#import geometric polygons extracted from Flourish.com (textfile)\n",
    "df_file_geo = pd.read_table (\"C:\\\\Users\\\\bthrift\\\\Documents\\\\Projects\\\\NGS Map\\\\NGS underlying data\\\\Flourish\\\\geometry_flourish.txt\", sep='\\t')\n",
    "df_geometry = df_file_geo[['code', \"geometry\"]]\n",
    "df_geometry.head(2)"
   ]
  },
  {
   "cell_type": "code",
   "execution_count": null,
   "id": "0633116a",
   "metadata": {},
   "outputs": [],
   "source": [
    "df_geometry.shape"
   ]
  },
  {
   "cell_type": "code",
   "execution_count": null,
   "id": "e62ef052",
   "metadata": {},
   "outputs": [],
   "source": [
    "#Confirm the data-types of the geometry data\n",
    "df_geometry.dtypes"
   ]
  },
  {
   "cell_type": "markdown",
   "id": "c7e5cabd",
   "metadata": {},
   "source": [
    "- Data Transformation & Joining"
   ]
  },
  {
   "cell_type": "code",
   "execution_count": null,
   "id": "46c6b5d0",
   "metadata": {},
   "outputs": [],
   "source": [
    "#Drop countries with NaN country_code & duplicates\n",
    "df_geometry_test = df_geometry[df_geometry['code'].notna()]\n",
    "df_geometry_test.drop_duplicates(subset = ['code'], inplace=True)\n",
    "df_geometry_test.nunique()"
   ]
  },
  {
   "cell_type": "code",
   "execution_count": null,
   "id": "e4d0bf57",
   "metadata": {},
   "outputs": [],
   "source": [
    "df_geometry.head(2)"
   ]
  },
  {
   "cell_type": "code",
   "execution_count": null,
   "id": "57d38f0e",
   "metadata": {},
   "outputs": [],
   "source": [
    "df_find_map.head(2)"
   ]
  },
  {
   "cell_type": "code",
   "execution_count": null,
   "id": "1c4e1c5a",
   "metadata": {},
   "outputs": [],
   "source": [
    "#merge together dataset\n",
    "df_file_geo = df_find_map.merge(df_geometry_test, how = 'left', on = 'code')\n",
    "NGS_flourish_file.head(2)"
   ]
  },
  {
   "cell_type": "code",
   "execution_count": null,
   "id": "6abb72c9",
   "metadata": {},
   "outputs": [],
   "source": [
    "#make sure the NGS file for Flourish.com has all the necessary columns\n",
    "NGS_flourish_file = df_file_geo[['geometry', \"country\", \n",
    "                                'code', 'region', 'who_testing_capacity', 'owid_testing_capacity',\n",
    "                                'pop_100k', 'max_new_tests_cap_avg', 'cap_cum_tests', 'cum_tpr',\n",
    "                                'dx_testing_capacity', 'ngs_capacity', 'sequencing_capacity', 'total_sequences',\n",
    "                                'submission_count', 'total_viable_sequences', 'all_cases', 'percent_cases_sequenced',\n",
    "                                'sequences_per_capita_per_100k', 'sars_cov_2_sequencing', 'cases_newly_reported_in_last_7_days_per_100000_population',\n",
    "                                'world_bank_economies', 'archetype_full', 'archetype', 'label', 'dx_testing_capacity_clean', \n",
    "                                'sequencing_capacity_clean', 'sars_cov_2_sequencing_clean']]\n",
    "NGS_flourish_file.head()"
   ]
  },
  {
   "cell_type": "code",
   "execution_count": null,
   "id": "168f64d7",
   "metadata": {},
   "outputs": [],
   "source": [
    "#extra cleaning...as needed\n",
    "\n",
    "# Transforming categorical values\n",
    "def num (x):\n",
    "    if x == '� Increase diagnostic testing capacity':\n",
    "        return '– Increase diagnostic testing capacity' \n",
    "    elif x == '� Set-up sample referral networks or build NGS capacity from scratch':\n",
    "        return '– Set-up sample referral networks or build NGS capacity from scratch'\n",
    "    elif x == '� Leverage existing NGS capacity':\n",
    "        return '– Leverage existing NGS capacity'\n",
    "    elif x =='� Build additional NGS capacity for scale-up':\n",
    "        return '– Build additional NGS capacity for scale-up'\n",
    "    \n",
    "NGS_flourish_file['label'] = NGS_flourish_file['label'].apply(lambda x : num (x))\n",
    "NGS_flourish_file.head(2)"
   ]
  },
  {
   "cell_type": "code",
   "execution_count": null,
   "id": "2a2bac71",
   "metadata": {},
   "outputs": [],
   "source": [
    "NGS_flourish_file.shape"
   ]
  },
  {
   "cell_type": "code",
   "execution_count": null,
   "id": "ebe2433a",
   "metadata": {},
   "outputs": [],
   "source": [
    "#Observe example country to make sure data is formatted correctly\n",
    "NGS_USA_Subset = NGS_flourish_file.loc[(NGS_flourish_file['code'] == 'USA')]\n",
    "NGS_USA_Subset.head(4)"
   ]
  },
  {
   "cell_type": "code",
   "execution_count": null,
   "id": "5d2922c0",
   "metadata": {},
   "outputs": [],
   "source": [
    "# Export dataset to .csv\n",
    "NGS_flourish_file.to_csv('C:\\\\Users\\\\bthrift\\\\Documents\\\\Projects\\\\NGS Map\\\\NGS underlying data\\\\Flourish\\\\NGS_flourish_file_11.9.2021_TEST3.csv', \n",
    "                  index=True, sep=',')"
   ]
  }
 ],
 "metadata": {
  "kernelspec": {
   "display_name": "Python 3",
   "language": "python",
   "name": "python3"
  },
  "language_info": {
   "codemirror_mode": {
    "name": "ipython",
    "version": 3
   },
   "file_extension": ".py",
   "mimetype": "text/x-python",
   "name": "python",
   "nbconvert_exporter": "python",
   "pygments_lexer": "ipython3",
   "version": "3.8.8"
  }
 },
 "nbformat": 4,
 "nbformat_minor": 5
}
